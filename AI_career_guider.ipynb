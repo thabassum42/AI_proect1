{
  "nbformat": 4,
  "nbformat_minor": 0,
  "metadata": {
    "colab": {
      "provenance": [],
      "authorship_tag": "ABX9TyMMXWfSEmAOoD6P4DwXmsoQ",
      "include_colab_link": true
    },
    "kernelspec": {
      "name": "python3",
      "display_name": "Python 3"
    },
    "language_info": {
      "name": "python"
    }
  },
  "cells": [
    {
      "cell_type": "markdown",
      "metadata": {
        "id": "view-in-github",
        "colab_type": "text"
      },
      "source": [
        "<a href=\"https://colab.research.google.com/github/thabassum42/AI_proect1/blob/main/AI_career_guider.ipynb\" target=\"_parent\"><img src=\"https://colab.research.google.com/assets/colab-badge.svg\" alt=\"Open In Colab\"/></a>"
      ]
    },
    {
      "cell_type": "code",
      "execution_count": 5,
      "metadata": {
        "id": "hKlk4Fwb8UQU"
      },
      "outputs": [],
      "source": [
        "# 🧠 AI Career Guide by Thabassum\n",
        "# 📌 This tool suggests career paths, skills, and free resources based on user interest."
      ]
    },
    {
      "cell_type": "code",
      "source": [
        "print(\"Project Setup Done! Let's build 🚀\")\n"
      ],
      "metadata": {
        "colab": {
          "base_uri": "https://localhost:8080/"
        },
        "id": "w5koAMQJ8vyC",
        "outputId": "8d571560-660f-425e-e7cb-ef16f760a305"
      },
      "execution_count": 4,
      "outputs": [
        {
          "output_type": "stream",
          "name": "stdout",
          "text": [
            "Project Setup Done! Let's build 🚀\n"
          ]
        }
      ]
    },
    {
      "cell_type": "code",
      "source": [
        "# Ask the user for their field of interest\n",
        "interest = input(\"What field are you interested in? (AI / Web Dev / Electrical / Mechanical / Cyber Security / Data Science): \")\n",
        "\n",
        "# Create a variable to store the result to export later\n",
        "result = \"\"\n",
        "\n",
        "# Based on interest, suggest career, skills, and free course\n",
        "if interest.lower() == \"ai\":\n",
        "    result = \"\\n👩‍💻 Career: Artificial Intelligence Engineer\\n\"\n",
        "    result += \"🧠 Skills: Python, Machine Learning, Deep Learning\\n\"\n",
        "    result += \"🎓 Free Course: https://ai.google/education/\"\n",
        "\n",
        "elif interest.lower() == \"web dev\":\n",
        "    result = \"\\n💻 Career: Full Stack Web Developer\\n\"\n",
        "    result += \"🛠️ Skills: HTML, CSS, JavaScript, React, Node.js\\n\"\n",
        "    result += \"🎓 Free Course: https://www.freecodecamp.org/\"\n",
        "\n",
        "elif interest.lower() == \"electrical\":\n",
        "    result = \"\\n⚡ Career: Electrical Design Engineer\\n\"\n",
        "    result += \"🔧 Skills: MATLAB, Power Systems, Control Systems\\n\"\n",
        "    result += \"🎓 Free Course: https://nptel.ac.in/courses/108/\"\n",
        "\n",
        "elif interest.lower() == \"mechanical\":\n",
        "    result = \"\\n⚙️ Career: Mechanical Engineer\\n\"\n",
        "    result += \"🧰 Skills: AutoCAD, SolidWorks, Thermodynamics\\n\"\n",
        "    result += \"🎓 Free Course: https://nptel.ac.in/courses/112/\"\n",
        "\n",
        "elif interest.lower() == \"cyber security\":\n",
        "    result = \"\\n🛡️ Career: Cyber Security Analyst\\n\"\n",
        "    result += \"🔐 Skills: Networking, Ethical Hacking, Kali Linux\\n\"\n",
        "    result += \"🎓 Free Course: https://www.cybrary.it/\"\n",
        "\n",
        "elif interest.lower() == \"data science\":\n",
        "    result = \"\\n📊 Career: Data Scientist\\n\"\n",
        "    result += \"📈 Skills: Python, Statistics, Pandas, Visualization\\n\"\n",
        "    result += \"🎓 Free Course: https://www.kaggle.com/learn\"\n",
        "\n",
        "else:\n",
        "    result = \"\\n❗ Sorry! This field is not available right now.\\n\"\n",
        "    result += \"Please try: AI / Web Dev / Electrical / Mechanical / Cyber Security / Data Science\"\n",
        "\n",
        "# Display the result to the user\n",
        "print(result)\n",
        "\n",
        "# Ask the user if they want to save the results to a text file\n",
        "save_choice = input(\"\\nDo you want to save these results to a file? (yes/no): \")\n",
        "\n",
        "# If the user wants to save, export the result to a .txt file\n",
        "if save_choice.lower() == \"yes\":\n",
        "    with open(\"career_suggestions.txt\", \"w\") as file:\n",
        "        file.write(result)  # Write the result to the file\n",
        "    print(\"\\n✅ Your career suggestions have been saved to 'career_suggestions.txt'.\")\n",
        "else:\n",
        "    print(\"\\n👍 No worries, your results were not saved.\")\n",
        "\n"
      ],
      "metadata": {
        "colab": {
          "base_uri": "https://localhost:8080/",
          "height": 356
        },
        "id": "8q7ffXoY8wHK",
        "outputId": "e35e96da-b376-4d0a-e27a-8a6d669988df"
      },
      "execution_count": 11,
      "outputs": [
        {
          "output_type": "error",
          "ename": "KeyboardInterrupt",
          "evalue": "Interrupted by user",
          "traceback": [
            "\u001b[0;31m---------------------------------------------------------------------------\u001b[0m",
            "\u001b[0;31mKeyboardInterrupt\u001b[0m                         Traceback (most recent call last)",
            "\u001b[0;32m<ipython-input-11-3f62f92e4529>\u001b[0m in \u001b[0;36m<cell line: 0>\u001b[0;34m()\u001b[0m\n\u001b[1;32m      1\u001b[0m \u001b[0;31m# Ask the user for their field of interest\u001b[0m\u001b[0;34m\u001b[0m\u001b[0;34m\u001b[0m\u001b[0m\n\u001b[0;32m----> 2\u001b[0;31m \u001b[0minterest\u001b[0m \u001b[0;34m=\u001b[0m \u001b[0minput\u001b[0m\u001b[0;34m(\u001b[0m\u001b[0;34m\"What field are you interested in? (AI / Web Dev / Electrical / Mechanical / Cyber Security / Data Science): \"\u001b[0m\u001b[0;34m)\u001b[0m\u001b[0;34m\u001b[0m\u001b[0;34m\u001b[0m\u001b[0m\n\u001b[0m\u001b[1;32m      3\u001b[0m \u001b[0;34m\u001b[0m\u001b[0m\n\u001b[1;32m      4\u001b[0m \u001b[0;31m# Create a variable to store the result to export later\u001b[0m\u001b[0;34m\u001b[0m\u001b[0;34m\u001b[0m\u001b[0m\n\u001b[1;32m      5\u001b[0m \u001b[0mresult\u001b[0m \u001b[0;34m=\u001b[0m \u001b[0;34m\"\"\u001b[0m\u001b[0;34m\u001b[0m\u001b[0;34m\u001b[0m\u001b[0m\n",
            "\u001b[0;32m/usr/local/lib/python3.11/dist-packages/ipykernel/kernelbase.py\u001b[0m in \u001b[0;36mraw_input\u001b[0;34m(self, prompt)\u001b[0m\n\u001b[1;32m   1175\u001b[0m                 \u001b[0;34m\"raw_input was called, but this frontend does not support input requests.\"\u001b[0m\u001b[0;34m\u001b[0m\u001b[0;34m\u001b[0m\u001b[0m\n\u001b[1;32m   1176\u001b[0m             )\n\u001b[0;32m-> 1177\u001b[0;31m         return self._input_request(\n\u001b[0m\u001b[1;32m   1178\u001b[0m             \u001b[0mstr\u001b[0m\u001b[0;34m(\u001b[0m\u001b[0mprompt\u001b[0m\u001b[0;34m)\u001b[0m\u001b[0;34m,\u001b[0m\u001b[0;34m\u001b[0m\u001b[0;34m\u001b[0m\u001b[0m\n\u001b[1;32m   1179\u001b[0m             \u001b[0mself\u001b[0m\u001b[0;34m.\u001b[0m\u001b[0m_parent_ident\u001b[0m\u001b[0;34m[\u001b[0m\u001b[0;34m\"shell\"\u001b[0m\u001b[0;34m]\u001b[0m\u001b[0;34m,\u001b[0m\u001b[0;34m\u001b[0m\u001b[0;34m\u001b[0m\u001b[0m\n",
            "\u001b[0;32m/usr/local/lib/python3.11/dist-packages/ipykernel/kernelbase.py\u001b[0m in \u001b[0;36m_input_request\u001b[0;34m(self, prompt, ident, parent, password)\u001b[0m\n\u001b[1;32m   1217\u001b[0m             \u001b[0;32mexcept\u001b[0m \u001b[0mKeyboardInterrupt\u001b[0m\u001b[0;34m:\u001b[0m\u001b[0;34m\u001b[0m\u001b[0;34m\u001b[0m\u001b[0m\n\u001b[1;32m   1218\u001b[0m                 \u001b[0;31m# re-raise KeyboardInterrupt, to truncate traceback\u001b[0m\u001b[0;34m\u001b[0m\u001b[0;34m\u001b[0m\u001b[0m\n\u001b[0;32m-> 1219\u001b[0;31m                 \u001b[0;32mraise\u001b[0m \u001b[0mKeyboardInterrupt\u001b[0m\u001b[0;34m(\u001b[0m\u001b[0;34m\"Interrupted by user\"\u001b[0m\u001b[0;34m)\u001b[0m \u001b[0;32mfrom\u001b[0m \u001b[0;32mNone\u001b[0m\u001b[0;34m\u001b[0m\u001b[0;34m\u001b[0m\u001b[0m\n\u001b[0m\u001b[1;32m   1220\u001b[0m             \u001b[0;32mexcept\u001b[0m \u001b[0mException\u001b[0m\u001b[0;34m:\u001b[0m\u001b[0;34m\u001b[0m\u001b[0;34m\u001b[0m\u001b[0m\n\u001b[1;32m   1221\u001b[0m                 \u001b[0mself\u001b[0m\u001b[0;34m.\u001b[0m\u001b[0mlog\u001b[0m\u001b[0;34m.\u001b[0m\u001b[0mwarning\u001b[0m\u001b[0;34m(\u001b[0m\u001b[0;34m\"Invalid Message:\"\u001b[0m\u001b[0;34m,\u001b[0m \u001b[0mexc_info\u001b[0m\u001b[0;34m=\u001b[0m\u001b[0;32mTrue\u001b[0m\u001b[0;34m)\u001b[0m\u001b[0;34m\u001b[0m\u001b[0;34m\u001b[0m\u001b[0m\n",
            "\u001b[0;31mKeyboardInterrupt\u001b[0m: Interrupted by user"
          ]
        }
      ]
    }
  ]
}